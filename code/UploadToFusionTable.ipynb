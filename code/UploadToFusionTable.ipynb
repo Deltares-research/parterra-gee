{
 "cells": [
  {
   "cell_type": "code",
   "execution_count": null,
   "metadata": {
    "collapsed": true
   },
   "outputs": [],
   "source": [
    "# Copyright (C) 2016 Delaters\n",
    "# This file is part of PARTERRA_GEE.\n",
    "#\n",
    "# PARTERRA_GEE is free software: you can redistribute it and/or modify\n",
    "# it under the terms of the GNU General Public License as published by\n",
    "# the Free Software Foundation, either version 3 of the License, or\n",
    "# (at your option) any later version.\n",
    "#\n",
    "# PARTERRA_GEE is distributed in the hope that it will be useful,\n",
    "# but WITHOUT ANY WARRANTY; without even the implied warranty of\n",
    "# MERCHANTABILITY or FITNESS FOR A PARTICULAR PURPOSE.  See the\n",
    "# GNU General Public License for more details.\n",
    "#\n",
    "#  You should have received a copy of the GNU General Public License\n",
    "#  along with this program.  If not, see <http://www.gnu.org/licenses/>."
   ]
  },
  {
   "cell_type": "code",
   "execution_count": null,
   "metadata": {
    "collapsed": true
   },
   "outputs": [],
   "source": [
    "import shapely.wkt\n",
    "import os\n",
    "from osgeo import ogr\n",
    "\n",
    "from osgeo import gdal\n",
    "\n",
    "ogr.UseExceptions()\n",
    "\n",
    "# gdal.SetConfigOption('CPL_DEBUG', 'ON')\n",
    "gdal.SetConfigOption('CPL_DEBUG', 'OFF')"
   ]
  },
  {
   "cell_type": "markdown",
   "metadata": {},
   "source": [
    "use gdal_auth.py to get token, see http://www.gdal.org/drv_gft.html"
   ]
  },
  {
   "cell_type": "code",
   "execution_count": 3,
   "metadata": {
    "collapsed": true
   },
   "outputs": [],
   "source": [
    "# GFT_REFRESH_TOKEN = #os.environ['GFT_REFRESH_TOKEN']"
   ]
  },
  {
   "cell_type": "code",
   "execution_count": 4,
   "metadata": {
    "collapsed": true
   },
   "outputs": [],
   "source": [
    "def convert2ft(input_path, output_path, append=False, fix_geometry=False, simplify_geometry=False, start_index=0):\n",
    "    filename = input_path\n",
    "\n",
    "    src_ds = ogr.Open(input_path)\n",
    "    src_lyr = src_ds.GetLayerByIndex(0)\n",
    "    f = src_lyr.GetFeature(1)\n",
    "\n",
    "    # create feature table\n",
    "    dst_ds = ogr.GetDriverByName('GFT').Open('GFT:refresh=' + GFT_REFRESH_TOKEN, True)\n",
    "    \n",
    "    if append:\n",
    "        dst_lyr = dst_ds.GetLayerByName(output_path)\n",
    "    else:\n",
    "        dst_lyr = dst_ds.CreateLayer(output_path)\n",
    "\n",
    "        # create fields using OGR\n",
    "        [dst_lyr.CreateField(f.GetFieldDefnRef(i)) for i in range(f.GetFieldCount())]\n",
    "\n",
    "    index = 0\n",
    "    batch_size = 250\n",
    "    index_batch = 0\n",
    "    for feat in src_lyr:\n",
    "        if index < start_index:\n",
    "            index = index + 1\n",
    "            continue\n",
    "        \n",
    "        try:\n",
    "            geom = shapely.wkt.loads(feat.GetGeometryRef().ExportToWkt())\n",
    "        except Exception as e: \n",
    "            print('Error({0}), skipping geometry.'.format(e))\n",
    "            continue\n",
    "\n",
    "        if fix_geometry and not geom.is_valid:\n",
    "            geom = geom.buffer(0.0)\n",
    "        \n",
    "        if simplify_geometry:\n",
    "            geom = geom.simplify(0.004)\n",
    "\n",
    "        f = ogr.Feature(dst_lyr.GetLayerDefn())\n",
    "        \n",
    "        # set field values\n",
    "        for i in range(feat.GetFieldCount()):\n",
    "            fd = feat.GetFieldDefnRef(i)\n",
    "            f.SetField(fd.GetName(), feat.GetField(fd.GetName()))\n",
    "            \n",
    "            #print(fd.GetName())\n",
    "            #print(feat.GetField(fd.GetName()))\n",
    "        \n",
    "        # set geometry    \n",
    "        f.SetGeometry(ogr.CreateGeometryFromWkt(geom.to_wkt()))\n",
    "        \n",
    "        if index_batch == 0:\n",
    "            dst_lyr.StartTransaction()\n",
    "            \n",
    "        index_batch = index_batch + 1\n",
    "        \n",
    "        # create feature\n",
    "        feature = dst_lyr.CreateFeature(f)\n",
    "        \n",
    "        f.Destroy() \n",
    "        \n",
    "        index = index + 1\n",
    "\n",
    "        if index_batch > batch_size:\n",
    "            dst_lyr.CommitTransaction()\n",
    "            print('Inserted {0} features ...'.format(batch_size))\n",
    "\n",
    "            index_batch = 0\n",
    "        \n",
    "    src_ds.Destroy()\n",
    "\n",
    "    dst_ds.Destroy()"
   ]
  },
  {
   "cell_type": "code",
   "execution_count": 5,
   "metadata": {
    "collapsed": true
   },
   "outputs": [],
   "source": [
    "input_file = 'daressalaam-latest-lines.kml'\n",
    "output_table = 'daressalaam-latest-lines-29-03-2016'"
   ]
  },
  {
   "cell_type": "code",
   "execution_count": 22,
   "metadata": {
    "collapsed": false
   },
   "outputs": [
    {
     "name": "stdout",
     "output_type": "stream",
     "text": [
      "Inserted 250 features ...\n",
      "Inserted 250 features ...\n",
      "Inserted 250 features ...\n",
      "Inserted 250 features ...\n",
      "Inserted 250 features ...\n",
      "Inserted 250 features ...\n",
      "Inserted 250 features ...\n",
      "Inserted 250 features ...\n",
      "Inserted 250 features ...\n",
      "Inserted 250 features ...\n",
      "Inserted 250 features ...\n",
      "Inserted 250 features ...\n",
      "Inserted 250 features ...\n",
      "Inserted 250 features ...\n",
      "Inserted 250 features ...\n",
      "Inserted 250 features ...\n",
      "Inserted 250 features ...\n",
      "Inserted 250 features ...\n",
      "Inserted 250 features ...\n",
      "Inserted 250 features ...\n",
      "Inserted 250 features ...\n",
      "Inserted 250 features ...\n",
      "Inserted 250 features ...\n",
      "Inserted 250 features ...\n",
      "Inserted 250 features ...\n",
      "Inserted 250 features ...\n",
      "Inserted 250 features ...\n",
      "Inserted 250 features ...\n",
      "Inserted 250 features ...\n",
      "Inserted 250 features ...\n",
      "Inserted 250 features ...\n",
      "Inserted 250 features ...\n",
      "Inserted 250 features ...\n",
      "Inserted 250 features ...\n",
      "Inserted 250 features ...\n",
      "Inserted 250 features ...\n",
      "Inserted 250 features ...\n"
     ]
    }
   ],
   "source": [
    "append = False\n",
    "fix_geometry = True\n",
    "simplify_geometry = False\n",
    "\n",
    "# gdal.SetConfigOption('CPL_DEBUG', 'OFF')\n",
    "    \n",
    "convert2ft(input_file, output_table, append, fix_geometry, simplify_geometry) \n",
    "# convert2ft(input_file, output_table, append, fix_geometry, simplify_geometry, 10617) # append"
   ]
  },
  {
   "cell_type": "code",
   "execution_count": 7,
   "metadata": {
    "collapsed": false
   },
   "outputs": [
    {
     "name": "stdout",
     "output_type": "stream",
     "text": [
      "103968 (101.38%)\n"
     ]
    }
   ],
   "source": [
    "##### append = True\n",
    "fix_geometry = True\n",
    "simplify_geometry = False\n",
    "\n",
    "# gdal.SetConfigOption('CPL_DEBUG', 'OFF')\n",
    "\n",
    "ds = ogr.Open(input_file)\n",
    "l = ds.GetLayerByIndex(0)\n",
    "totalCount = l.GetFeatureCount()\n",
    "\n",
    "def GetFeatureCount():\n",
    "    driver = ogr.GetDriverByName('GFT')\n",
    "    dataSource = driver.Open('GFT:refresh=' + GFT_REFRESH_TOKEN, True)\n",
    "    layer = dataSource.GetLayer(12)\n",
    "\n",
    "    return layer.GetFeatureCount()\n",
    "\n",
    "count = GetFeatureCount()\n",
    "\n",
    "print('{0} ({1:.2f}%)'.format(count, 100. * float(count) / totalCount))\n",
    "\n",
    "while count < totalCount:\n",
    "    try:\n",
    "        # convert2ft(input_file, output_table, append, fix_geometry, simplify_geometry) \n",
    "        convert2ft(input_file, output_table, append, fix_geometry, simplify_geometry, count) # append\n",
    "    except RuntimeError:\n",
    "        count = GetFeatureCount()\n",
    "        print('{0} ({1:.2f}%)'.format(count, 100. * float(count) / totalCount))"
   ]
  },
  {
   "cell_type": "code",
   "execution_count": 12,
   "metadata": {
    "collapsed": false
   },
   "outputs": [
    {
     "name": "stdout",
     "output_type": "stream",
     "text": [
      "9420\n"
     ]
    }
   ],
   "source": [
    "print(l.GetFeatureCount())"
   ]
  },
  {
   "cell_type": "code",
   "execution_count": 6,
   "metadata": {
    "collapsed": false
   },
   "outputs": [
    {
     "ename": "RuntimeError",
     "evalue": "Fetching OAuth2 access code from auth code failed.",
     "output_type": "error",
     "traceback": [
      "\u001b[1;31m---------------------------------------------------------------------------\u001b[0m",
      "\u001b[1;31mRuntimeError\u001b[0m                              Traceback (most recent call last)",
      "\u001b[1;32m<ipython-input-6-a5a5ef5bc4ef>\u001b[0m in \u001b[0;36m<module>\u001b[1;34m()\u001b[0m\n\u001b[0;32m      1\u001b[0m \u001b[0mdriver\u001b[0m \u001b[1;33m=\u001b[0m \u001b[0mogr\u001b[0m\u001b[1;33m.\u001b[0m\u001b[0mGetDriverByName\u001b[0m\u001b[1;33m(\u001b[0m\u001b[1;34m'GFT'\u001b[0m\u001b[1;33m)\u001b[0m\u001b[1;33m\u001b[0m\u001b[0m\n\u001b[1;32m----> 2\u001b[1;33m \u001b[0mdataSource\u001b[0m \u001b[1;33m=\u001b[0m \u001b[0mdriver\u001b[0m\u001b[1;33m.\u001b[0m\u001b[0mOpen\u001b[0m\u001b[1;33m(\u001b[0m\u001b[1;34m'GFT:refresh='\u001b[0m \u001b[1;33m+\u001b[0m \u001b[0mGFT_REFRESH_TOKEN\u001b[0m\u001b[1;33m,\u001b[0m \u001b[0mTrue\u001b[0m\u001b[1;33m)\u001b[0m\u001b[1;33m\u001b[0m\u001b[0m\n\u001b[0m\u001b[0;32m      3\u001b[0m \u001b[1;32mprint\u001b[0m\u001b[1;33m(\u001b[0m\u001b[0mdataSource\u001b[0m\u001b[1;33m)\u001b[0m\u001b[1;33m\u001b[0m\u001b[0m\n\u001b[0;32m      4\u001b[0m \u001b[1;33m\u001b[0m\u001b[0m\n\u001b[0;32m      5\u001b[0m \u001b[1;33m\u001b[0m\u001b[0m\n",
      "\u001b[1;32mC:\\Anaconda\\lib\\site-packages\\osgeo\\ogr.pyc\u001b[0m in \u001b[0;36mOpen\u001b[1;34m(self, *args, **kwargs)\u001b[0m\n\u001b[0;32m    300\u001b[0m         \u001b[0mclosed\u001b[0m \u001b[0mby\u001b[0m \u001b[0mdeleting\u001b[0m \u001b[0mthe\u001b[0m \u001b[0mobject\u001b[0m \u001b[0mwhen\u001b[0m \u001b[0mit\u001b[0m \u001b[1;32mis\u001b[0m \u001b[0mno\u001b[0m \u001b[0mlonger\u001b[0m \u001b[0mneeded\u001b[0m\u001b[1;33m.\u001b[0m\u001b[1;33m\u001b[0m\u001b[0m\n\u001b[0;32m    301\u001b[0m         \"\"\"\n\u001b[1;32m--> 302\u001b[1;33m         \u001b[1;32mreturn\u001b[0m \u001b[0m_ogr\u001b[0m\u001b[1;33m.\u001b[0m\u001b[0mDriver_Open\u001b[0m\u001b[1;33m(\u001b[0m\u001b[0mself\u001b[0m\u001b[1;33m,\u001b[0m \u001b[1;33m*\u001b[0m\u001b[0margs\u001b[0m\u001b[1;33m,\u001b[0m \u001b[1;33m**\u001b[0m\u001b[0mkwargs\u001b[0m\u001b[1;33m)\u001b[0m\u001b[1;33m\u001b[0m\u001b[0m\n\u001b[0m\u001b[0;32m    303\u001b[0m \u001b[1;33m\u001b[0m\u001b[0m\n\u001b[0;32m    304\u001b[0m     \u001b[1;32mdef\u001b[0m \u001b[0mDeleteDataSource\u001b[0m\u001b[1;33m(\u001b[0m\u001b[0mself\u001b[0m\u001b[1;33m,\u001b[0m \u001b[1;33m*\u001b[0m\u001b[0margs\u001b[0m\u001b[1;33m)\u001b[0m\u001b[1;33m:\u001b[0m\u001b[1;33m\u001b[0m\u001b[0m\n",
      "\u001b[1;31mRuntimeError\u001b[0m: Fetching OAuth2 access code from auth code failed."
     ]
    }
   ],
   "source": [
    "driver = ogr.GetDriverByName('GFT')\n",
    "dataSource = driver.Open('GFT:refresh=' + GFT_REFRESH_TOKEN, True)\n",
    "print(dataSource)\n",
    "\n",
    "\n",
    "layerCount = dataSource.GetLayerCount()\n",
    "\n",
    "print('Layer count: {0}'.format(layerCount))\n",
    "\n",
    "for i in range(layerCount):\n",
    "    layer = dataSource.GetLayer(i)\n",
    "    print('{0}: {1}'.format(i, layer.GetName()))"
   ]
  }
 ],
 "metadata": {
  "anaconda-cloud": {},
  "kernelspec": {
   "display_name": "Python [Root]",
   "language": "python",
   "name": "Python [Root]"
  },
  "language_info": {
   "codemirror_mode": {
    "name": "ipython",
    "version": 2
   },
   "file_extension": ".py",
   "mimetype": "text/x-python",
   "name": "python",
   "nbconvert_exporter": "python",
   "pygments_lexer": "ipython2",
   "version": "2.7.12"
  }
 },
 "nbformat": 4,
 "nbformat_minor": 0
}
